{
 "cells": [
  {
   "cell_type": "code",
   "execution_count": 35,
   "id": "f550bef2",
   "metadata": {},
   "outputs": [
    {
     "name": "stdout",
     "output_type": "stream",
     "text": [
      "hello world\n"
     ]
    }
   ],
   "source": [
    "#1 was to print \"hello world\" by using the python print funtion \n",
    "print(\"hello world\")"
   ]
  },
  {
   "cell_type": "code",
   "execution_count": 1,
   "id": "a2b7ed0f",
   "metadata": {},
   "outputs": [
    {
     "data": {
      "text/plain": [
       "50"
      ]
     },
     "execution_count": 1,
     "metadata": {},
     "output_type": "execute_result"
    }
   ],
   "source": [
    "#2 was to initialize variable and value as 50.\n",
    "a=50\n",
    "a"
   ]
  },
  {
   "cell_type": "code",
   "execution_count": 3,
   "id": "f56f5f77",
   "metadata": {},
   "outputs": [
    {
     "name": "stdout",
     "output_type": "stream",
     "text": [
      "150 120 250\n"
     ]
    }
   ],
   "source": [
    "#3 was to initialize multivariable value are 150,120,250\n",
    "a,b,c=150,120,250\n",
    "print(a,b,c)"
   ]
  },
  {
   "cell_type": "code",
   "execution_count": null,
   "id": "8e8ed7d9",
   "metadata": {},
   "outputs": [],
   "source": [
    "#4 was to print the type of the data in the given value.\n",
    "a=10\n",
    "type(a)"
   ]
  },
  {
   "cell_type": "code",
   "execution_count": 7,
   "id": "051f3bbe",
   "metadata": {},
   "outputs": [
    {
     "name": "stdout",
     "output_type": "stream",
     "text": [
      "Sowmya\n",
      "{'name': 'sowmya', 'age': 21, 'phone': 9988774455, 'email': 'sowmya@gmail.com', 'address': 'HYD'}\n",
      "sowmya 21 sowmya@gmail.com\n"
     ]
    }
   ],
   "source": [
    "#5 was to print your details, first store your details,extract the values and display it.\n",
    "a=\"Sowmya\"\n",
    "print(a)\n",
    "\n",
    "d={'name':'sowmya','age':21,'phone':9988774455,'email':'sowmya@gmail.com','address':'HYD'}\n",
    "print(d)\n",
    "print(d['name'],d['age'],d['email'])"
   ]
  },
  {
   "cell_type": "code",
   "execution_count": null,
   "id": "9dcc4c58",
   "metadata": {},
   "outputs": [],
   "source": [
    "#6 was to print the address of the memory block to given value. \n",
    "a=50\n",
    "id(a)"
   ]
  },
  {
   "cell_type": "code",
   "execution_count": 8,
   "id": "0ec85ec2",
   "metadata": {},
   "outputs": [
    {
     "name": "stdout",
     "output_type": "stream",
     "text": [
      "10\n",
      "5\n"
     ]
    }
   ],
   "source": [
    "#7 was to swap the two values . with a temp variable.\n",
    "a=5\n",
    "b=10\n",
    "c=a #c=5\n",
    "a=b #a=10\n",
    "b=c #b=5\n",
    "\n",
    "print(a)\n",
    "print(b)"
   ]
  },
  {
   "cell_type": "code",
   "execution_count": 9,
   "id": "b9816cde",
   "metadata": {},
   "outputs": [
    {
     "name": "stdout",
     "output_type": "stream",
     "text": [
      "10\n",
      "5\n"
     ]
    }
   ],
   "source": [
    "#8 was to swap the two values with out temp variable.\n",
    "a,b=5,10\n",
    "a,b=b,a\n",
    "print(a)\n",
    "print(b)"
   ]
  },
  {
   "cell_type": "code",
   "execution_count": 10,
   "id": "aba6ff48",
   "metadata": {},
   "outputs": [
    {
     "name": "stdout",
     "output_type": "stream",
     "text": [
      "5\n",
      "10\n"
     ]
    }
   ],
   "source": [
    "#9 was to initialize the value and print the value, after print, then \n",
    "#reinitialize the new value to the exist variable and display the value\n",
    "\n",
    "a=5\n",
    "print(a)\n",
    "a=10\n",
    "print(a)\n"
   ]
  },
  {
   "cell_type": "code",
   "execution_count": null,
   "id": "522fdcf8",
   "metadata": {},
   "outputs": [],
   "source": [
    "#10 was to convert single to multi value data type\n",
    "#i/p= a=10\n",
    "#o/p ['1','0']\n",
    "\n",
    "a=10\n",
    "b=str(a)\n",
    "print(list(b))"
   ]
  },
  {
   "cell_type": "code",
   "execution_count": 19,
   "id": "e85a8648",
   "metadata": {},
   "outputs": [
    {
     "name": "stdout",
     "output_type": "stream",
     "text": [
      "haiihello\n",
      "[10, 20, 30, 40]\n",
      "(10, 150, 20, 200)\n",
      "{'a': 10, 'b': 20}\n",
      "['hey', 'h', 'i']\n",
      "['hey', 'hi']\n",
      "['hey', 'hi']\n",
      "['hey', 'haii', 'bye']\n"
     ]
    }
   ],
   "source": [
    "#11 was to concat the two multi value data types (str, list, tuple, dict)\n",
    "\n",
    "a=\"haii\"\n",
    "b=\"hello\"\n",
    "res=a+b\n",
    "print(res)\n",
    "\n",
    "a=[10,20]\n",
    "b=[30,40]\n",
    "res=a+b\n",
    "print(res)\n",
    "\n",
    "m=(10,150,20)\n",
    "n=(200,)\n",
    "res=m+n\n",
    "print(res)\n",
    "\n",
    "d={'a':10}\n",
    "d['b']=20\n",
    "print(d)\n",
    "\n",
    "b= [\"hey\"]\n",
    "a=\"hi\"\n",
    "b+=a\n",
    "print(b)\n",
    "\n",
    "b= [\"hey\"]\n",
    "a=\"hi\"\n",
    "b+=[a]\n",
    "print(b)\n",
    "\n",
    "b= [\"hey\"]\n",
    "a=\"hi\"\n",
    "b+=(a,)\n",
    "print(b)\n",
    "\n",
    "b= [\"hey\"]\n",
    "a={'haii':10,'bye':20}\n",
    "b+=a\n",
    "print(b)\n"
   ]
  },
  {
   "cell_type": "code",
   "execution_count": 21,
   "id": "0eec52d5",
   "metadata": {},
   "outputs": [
    {
     "data": {
      "text/plain": [
       "4"
      ]
     },
     "execution_count": 21,
     "metadata": {},
     "output_type": "execute_result"
    }
   ],
   "source": [
    "#12 wac to perform the lenght of the collection\n",
    "a=[10,12,14,15]\n",
    "len(a)"
   ]
  },
  {
   "cell_type": "code",
   "execution_count": 20,
   "id": "4b3b5a91",
   "metadata": {},
   "outputs": [
    {
     "name": "stdout",
     "output_type": "stream",
     "text": [
      "14\n",
      "14\n"
     ]
    }
   ],
   "source": [
    "#13 wac to find out the middle value of the given collection \n",
    "a=[10,12,14,15,16]\n",
    "b=len(a)//2\n",
    "print(a[b])\n",
    "\n",
    "a=[10,12,14,15,16]\n",
    "print(a[len(a)//2])"
   ]
  },
  {
   "cell_type": "code",
   "execution_count": 23,
   "id": "62e81ac7",
   "metadata": {},
   "outputs": [
    {
     "name": "stdout",
     "output_type": "stream",
     "text": [
      "hellohey\n"
     ]
    }
   ],
   "source": [
    "#14 was to concat the new sting into the starting of the given string.\n",
    "a=\"hey\"\n",
    "a='hello'+a\n",
    "print(a)"
   ]
  },
  {
   "cell_type": "code",
   "execution_count": 24,
   "id": "6e650098",
   "metadata": {},
   "outputs": [
    {
     "name": "stdout",
     "output_type": "stream",
     "text": [
      "heyhello\n",
      "heyhello\n"
     ]
    }
   ],
   "source": [
    "#15 was to concat the new string into the ending of the ginven sting\n",
    "a=\"hey\"\n",
    "a=a+\"hello\"\n",
    "print(a)\n",
    "\n",
    "a=\"hey\"\n",
    "a+=\"hello\"\n",
    "print(a)"
   ]
  },
  {
   "cell_type": "code",
   "execution_count": 25,
   "id": "280743dd",
   "metadata": {},
   "outputs": [
    {
     "name": "stdout",
     "output_type": "stream",
     "text": [
      "hellohaiiworld\n"
     ]
    }
   ],
   "source": [
    "#16 was to concat the new string into the middle of the given string \n",
    "a=\"helloworld\"\n",
    "b=a[:5]+\"haii\"+a[5:]\n",
    "print(b)"
   ]
  },
  {
   "cell_type": "code",
   "execution_count": 26,
   "id": "a21fcdde",
   "metadata": {},
   "outputs": [
    {
     "data": {
      "text/plain": [
       "'hyi'"
      ]
     },
     "execution_count": 26,
     "metadata": {},
     "output_type": "execute_result"
    }
   ],
   "source": [
    "#17 was to replace the old character into a new character of the given string \n",
    "a=\"hii\"\n",
    "a=a[:1]+\"y\"+a[2:]\n",
    "print(a)"
   ]
  },
  {
   "cell_type": "code",
   "execution_count": 30,
   "id": "9b70a8e0",
   "metadata": {},
   "outputs": [
    {
     "name": "stdout",
     "output_type": "stream",
     "text": [
      "hlloworld\n",
      "hlloworld\n"
     ]
    }
   ],
   "source": [
    "#18 was to delete the specific character in the given string \n",
    "a=\"helloworld\"\n",
    "a=a[:1]+a[2:]\n",
    "print(a)\n",
    "\n",
    "a=\"helloworld\"\n",
    "a=a[:1]+''+a[2:]\n",
    "print(a)"
   ]
  },
  {
   "cell_type": "code",
   "execution_count": 31,
   "id": "5d0b26f4",
   "metadata": {},
   "outputs": [
    {
     "name": "stdout",
     "output_type": "stream",
     "text": [
      "helloworldbye\n"
     ]
    }
   ],
   "source": [
    "#19 was to concat the new sting into the specific position of the given string.\n",
    "a=\"hellobye\"\n",
    "a=a[:5]+\"world\"+a[5:]\n",
    "print(a)\n"
   ]
  },
  {
   "cell_type": "code",
   "execution_count": 32,
   "id": "c5267804",
   "metadata": {},
   "outputs": [
    {
     "name": "stdout",
     "output_type": "stream",
     "text": [
      "[5, 10, 20, 30, 40, 50]\n"
     ]
    }
   ],
   "source": [
    "#20 was to concat the new value into the starting of the given list \n",
    "l=[10,20,30,40,50]\n",
    "l=[5]+l\n",
    "print(l)"
   ]
  },
  {
   "cell_type": "code",
   "execution_count": 34,
   "id": "8d279dbd",
   "metadata": {},
   "outputs": [
    {
     "name": "stdout",
     "output_type": "stream",
     "text": [
      "[10, 20, 30, 40, 50, 60]\n",
      "[10, 20, 30, 40, 50, 60]\n"
     ]
    }
   ],
   "source": [
    "#21 was to concat the new value into the ending of the given list\n",
    "l=[10,20,30,40,50]\n",
    "l=l+[60]\n",
    "print(l)\n",
    "\n",
    "l=[10,20,30,40,50]\n",
    "l+=[60]\n",
    "print(l)"
   ]
  },
  {
   "cell_type": "code",
   "execution_count": 40,
   "id": "40500314",
   "metadata": {},
   "outputs": [
    {
     "name": "stdout",
     "output_type": "stream",
     "text": [
      "[10, 20, 30, 40, 50]\n",
      "[10, 20, 30, 40, 50]\n"
     ]
    }
   ],
   "source": [
    "#22 was to concat the new value into the middle of the given list \n",
    "\n",
    "l=[10,20,40,50]\n",
    "n=[30]\n",
    "index=len(l)//2\n",
    "new_list=l[:index]+n+l[index:]\n",
    "print(new_list)\n",
    "\n",
    "\n",
    "l=[10,20,40,50]\n",
    "n=[30]\n",
    "index=len(l)//2\n",
    "l[index:index]=n\n",
    "print(l)\n"
   ]
  },
  {
   "cell_type": "code",
   "execution_count": 41,
   "id": "177ec1e2",
   "metadata": {},
   "outputs": [
    {
     "name": "stdout",
     "output_type": "stream",
     "text": [
      "[10, 20, 30, 50, 60]\n"
     ]
    }
   ],
   "source": [
    "#23 was to modify the new value into the specific position of the given list \n",
    "l=[10,20,40,50,60]\n",
    "n=30\n",
    "l[2]=n\n",
    "print(l)"
   ]
  },
  {
   "cell_type": "code",
   "execution_count": 42,
   "id": "1c138fce",
   "metadata": {},
   "outputs": [
    {
     "data": {
      "text/plain": [
       "[6, 2, 3, 4]"
      ]
     },
     "execution_count": 42,
     "metadata": {},
     "output_type": "execute_result"
    }
   ],
   "source": [
    "#24 was to modify the new value into the starting of the given list.\n",
    "l=[1,2,3,4]\n",
    "l[0]=6\n",
    "l"
   ]
  },
  {
   "cell_type": "code",
   "execution_count": 43,
   "id": "3278a81f",
   "metadata": {},
   "outputs": [
    {
     "name": "stdout",
     "output_type": "stream",
     "text": [
      "[1, 2, 3, 4, 6]\n"
     ]
    }
   ],
   "source": [
    "#25 was to modify the new value into the ending of the given list\n",
    "l=[1,2,3,4,5]\n",
    "l[-1]=6\n",
    "print(l)\n"
   ]
  },
  {
   "cell_type": "code",
   "execution_count": 44,
   "id": "a69d94f6",
   "metadata": {},
   "outputs": [
    {
     "data": {
      "text/plain": [
       "[1, 2, 15, 4, 5]"
      ]
     },
     "execution_count": 44,
     "metadata": {},
     "output_type": "execute_result"
    }
   ],
   "source": [
    "#26 was to modify the new value into the middle of the given list \n",
    "\n",
    "l=[1,2,3,4,5]\n",
    "middle=len(l)//2\n",
    "l[middle]=15\n",
    "l\n",
    "\n"
   ]
  },
  {
   "cell_type": "code",
   "execution_count": 45,
   "id": "32b9ce29",
   "metadata": {},
   "outputs": [
    {
     "data": {
      "text/plain": [
       "[11, 12, 13, 14, 5, 6, 7, 8, 9, 10]"
      ]
     },
     "execution_count": 45,
     "metadata": {},
     "output_type": "execute_result"
    }
   ],
   "source": [
    "#27 was to modify the first 4 positions values into a given list \n",
    "l=[1,2,3,4,5,6,7,8,9,10]\n",
    "l[:4]=[11,12,13,14]\n",
    "l"
   ]
  },
  {
   "cell_type": "code",
   "execution_count": 50,
   "id": "3f7f6c04",
   "metadata": {},
   "outputs": [
    {
     "name": "stdout",
     "output_type": "stream",
     "text": [
      "[1, 2, 3, 4, 5, 7, 8, 9, 10]\n",
      "[1, 2, 3, 4, 5, 7, 8, 9, 10]\n"
     ]
    }
   ],
   "source": [
    "#28 was to delete the value in the specific position of the given list.\n",
    "l=[1,2,3,4,5,6,7,8,9,10]\n",
    "del l[5]\n",
    "print(l)\n",
    "\n",
    "l=[1,2,3,4,5,6,7,8,9,10]\n",
    "l[5:6]=[]\n",
    "print(l)"
   ]
  },
  {
   "cell_type": "code",
   "execution_count": 52,
   "id": "84ce5dd2",
   "metadata": {},
   "outputs": [
    {
     "data": {
      "text/plain": [
       "[2, 3, 4]"
      ]
     },
     "execution_count": 52,
     "metadata": {},
     "output_type": "execute_result"
    }
   ],
   "source": [
    "#29 was to delete the value into the starting of the list.\n",
    "l=[1,2,3,4]\n",
    "del l[0]\n",
    "l"
   ]
  },
  {
   "cell_type": "code",
   "execution_count": 51,
   "id": "5f693a7e",
   "metadata": {},
   "outputs": [
    {
     "data": {
      "text/plain": [
       "[1, 2, 3]"
      ]
     },
     "execution_count": 51,
     "metadata": {},
     "output_type": "execute_result"
    }
   ],
   "source": [
    "#30 was to delete the value into the ending of the list.\n",
    "l=[1,2,3,4]\n",
    "del l[-1]\n",
    "l"
   ]
  },
  {
   "cell_type": "code",
   "execution_count": 53,
   "id": "7a2ed5ef",
   "metadata": {},
   "outputs": [
    {
     "data": {
      "text/plain": [
       "[1, 2, 4, 5]"
      ]
     },
     "execution_count": 53,
     "metadata": {},
     "output_type": "execute_result"
    }
   ],
   "source": [
    "#31 was to delete the value into the middle of the list\n",
    "l=[1,2,3,4,5]\n",
    "n=len(l)//2\n",
    "del l[n]\n",
    "l"
   ]
  },
  {
   "cell_type": "code",
   "execution_count": 6,
   "id": "5f70ff7f",
   "metadata": {},
   "outputs": [
    {
     "data": {
      "text/plain": [
       "(0, 1, 2, 3)"
      ]
     },
     "execution_count": 6,
     "metadata": {},
     "output_type": "execute_result"
    }
   ],
   "source": [
    "#32 was to concat the new value into starting of the tuple\n",
    "t=(1,2,3)\n",
    "t=(0,)+t\n",
    "t\n"
   ]
  },
  {
   "cell_type": "code",
   "execution_count": 56,
   "id": "453de83d",
   "metadata": {},
   "outputs": [
    {
     "data": {
      "text/plain": [
       "(1, 2, 150, 3, 4)"
      ]
     },
     "execution_count": 56,
     "metadata": {},
     "output_type": "execute_result"
    }
   ],
   "source": [
    "#33 was to concat the new value into the middle of the tuple\n",
    "l=(1,2,3,4)\n",
    "n=(10,)\n",
    "index=len(l)//2\n",
    "new_list=l[:index]+n+l[index:]\n",
    "new_list\n",
    "\n",
    "l=(1,2,3,4)\n",
    "new_list=l[:len(l)//2]+(150,)+l[len(l)//2:]\n",
    "new_list"
   ]
  },
  {
   "cell_type": "code",
   "execution_count": 8,
   "id": "eabd1e74",
   "metadata": {},
   "outputs": [
    {
     "data": {
      "text/plain": [
       "(1, 2, 3, 4)"
      ]
     },
     "execution_count": 8,
     "metadata": {},
     "output_type": "execute_result"
    }
   ],
   "source": [
    "#34 was to concat the new value into the ending of the tuple\n",
    "t=(1,2,3)\n",
    "t=t+(4,)\n",
    "t"
   ]
  },
  {
   "cell_type": "code",
   "execution_count": 57,
   "id": "5cda9483",
   "metadata": {},
   "outputs": [
    {
     "name": "stdout",
     "output_type": "stream",
     "text": [
      "{40, 1, 2, 3}\n"
     ]
    },
    {
     "data": {
      "text/plain": [
       "{1, 2, 3, 4}"
      ]
     },
     "execution_count": 57,
     "metadata": {},
     "output_type": "execute_result"
    }
   ],
   "source": [
    "#35 was to concat the new value into the set\n",
    "s={1,2,3}\n",
    "s=list(s)\n",
    "s+=[40]\n",
    "s=set(s)\n",
    "print(s)\n",
    "\n",
    "s={1,2,3}\n",
    "s.add(4)\n",
    "print(s)"
   ]
  },
  {
   "cell_type": "code",
   "execution_count": 58,
   "id": "06a729bc",
   "metadata": {},
   "outputs": [
    {
     "data": {
      "text/plain": [
       "{'a': 1, 'b': 2, 'c': 3, 'd': 4}"
      ]
     },
     "execution_count": 58,
     "metadata": {},
     "output_type": "execute_result"
    }
   ],
   "source": [
    "#36 was to concat the new key and value into the dict. \n",
    "d={'a':1,'b':2,'c':3}\n",
    "d['d']=4\n",
    "d\n"
   ]
  },
  {
   "cell_type": "code",
   "execution_count": 59,
   "id": "ba6df3ae",
   "metadata": {},
   "outputs": [
    {
     "data": {
      "text/plain": [
       "{'b': 2, 'c': 3}"
      ]
     },
     "execution_count": 59,
     "metadata": {},
     "output_type": "execute_result"
    }
   ],
   "source": [
    "#37 was to delete the specific key and value from the given dict.\n",
    "d={'a':1,'b':2,'c':3}\n",
    "del d['a']\n",
    "d"
   ]
  },
  {
   "cell_type": "code",
   "execution_count": 62,
   "id": "7e6142fe",
   "metadata": {},
   "outputs": [
    {
     "name": "stdout",
     "output_type": "stream",
     "text": [
      "{1, 2, 3, 4, 5}\n",
      "{1, 2, 3, 4}\n"
     ]
    },
    {
     "data": {
      "text/plain": [
       "{1, 3, 4, 5}"
      ]
     },
     "execution_count": 62,
     "metadata": {},
     "output_type": "execute_result"
    }
   ],
   "source": [
    "#38 was to delete the set value.\n",
    "\n",
    "s={1,2,3,4,5}\n",
    "print(s)\n",
    "s=list(s)\n",
    "del s[-1]\n",
    "s=set(s)\n",
    "print(s)\n",
    "\n",
    "s={1,2,3,4,5}\n",
    "s.remove(2)\n",
    "s"
   ]
  },
  {
   "cell_type": "code",
   "execution_count": 10,
   "id": "c7a55a0c",
   "metadata": {},
   "outputs": [
    {
     "data": {
      "text/plain": [
       "{'a': 10, 'b': 2, 'c': 3}"
      ]
     },
     "execution_count": 10,
     "metadata": {},
     "output_type": "execute_result"
    }
   ],
   "source": [
    "#39 was to modify the specific value in the given dict.\n",
    "d={'a':1,'b':2,'c':3}\n",
    "d['a']=10\n",
    "d"
   ]
  },
  {
   "cell_type": "code",
   "execution_count": 63,
   "id": "ee752dab",
   "metadata": {},
   "outputs": [
    {
     "name": "stdout",
     "output_type": "stream",
     "text": [
      "[1, 2, 3, 4, 5, 6, 7, 8]\n",
      "(1, 2, 3, 4, 5, 6, 7, 8)\n"
     ]
    }
   ],
   "source": [
    "#40 was to concat the list value and tuple value by using type casting.\n",
    "l=[1,2,3,4]\n",
    "t=(5,6,7,8)\n",
    "l=l+list(t)\n",
    "print(l)\n",
    "\n",
    "\n",
    "l=[1,2,3,4]\n",
    "t=(5,6,7,8)\n",
    "l=tuple(l)+t\n",
    "print(l)\n",
    "\n",
    "\n"
   ]
  },
  {
   "cell_type": "code",
   "execution_count": 64,
   "id": "57c026e4",
   "metadata": {},
   "outputs": [
    {
     "name": "stdout",
     "output_type": "stream",
     "text": [
      "[10, 20, 30, 40, 50, 60]\n"
     ]
    },
    {
     "data": {
      "text/plain": [
       "[1, 2, 3, 4, 5, 6, 7, 8]"
      ]
     },
     "execution_count": 64,
     "metadata": {},
     "output_type": "execute_result"
    }
   ],
   "source": [
    "#41 was to concat the list value and tuple value without using type casting.\n",
    "l=[10,20,30]\n",
    "l+=(40,50,60)\n",
    "print(l)\n",
    "\n",
    "l=[1,2,3,4]\n",
    "t=(5,6,7,8)\n",
    "l.extend(t)\n",
    "l"
   ]
  },
  {
   "cell_type": "code",
   "execution_count": 66,
   "id": "2fbed399",
   "metadata": {},
   "outputs": [
    {
     "data": {
      "text/plain": [
       "True"
      ]
     },
     "execution_count": 66,
     "metadata": {},
     "output_type": "execute_result"
    }
   ],
   "source": [
    "#42 was to the given number is divisible by 3.\n",
    "n=89\n",
    "n%3==0\n",
    "\n",
    "# n=21\n",
    "# n%3==0"
   ]
  },
  {
   "cell_type": "code",
   "execution_count": 70,
   "id": "158640de",
   "metadata": {},
   "outputs": [
    {
     "data": {
      "text/plain": [
       "False"
      ]
     },
     "execution_count": 70,
     "metadata": {},
     "output_type": "execute_result"
    }
   ],
   "source": [
    "#43 was to the given number is divisible by 2 and 6.\n",
    "n=14\n",
    "n%2==0 and n%6==0\n",
    "\n",
    "n=18\n",
    "n%2==0 and n%6==0\n",
    "\n",
    "n=89\n",
    "n%2==0 and n%6==0\n"
   ]
  },
  {
   "cell_type": "code",
   "execution_count": 71,
   "id": "9c737b5d",
   "metadata": {},
   "outputs": [
    {
     "data": {
      "text/plain": [
       "True"
      ]
     },
     "execution_count": 71,
     "metadata": {},
     "output_type": "execute_result"
    }
   ],
   "source": [
    "#44 was to the given number ,the last digit is divisiable by 3 (dont use typecasting)\n",
    "\n",
    "n=786\n",
    "i=n%10\n",
    "i%3==0"
   ]
  },
  {
   "cell_type": "code",
   "execution_count": 72,
   "id": "2279e51b",
   "metadata": {},
   "outputs": [
    {
     "data": {
      "text/plain": [
       "True"
      ]
     },
     "execution_count": 72,
     "metadata": {},
     "output_type": "execute_result"
    }
   ],
   "source": [
    "#45 was to the last digit of a given number is divisiable by 3.(use typecasting)\n",
    "n=789\n",
    "l=str(n)[-1]\n",
    "int(l)%3==0"
   ]
  },
  {
   "cell_type": "code",
   "execution_count": 73,
   "id": "1eceb107",
   "metadata": {},
   "outputs": [
    {
     "data": {
      "text/plain": [
       "True"
      ]
     },
     "execution_count": 73,
     "metadata": {},
     "output_type": "execute_result"
    }
   ],
   "source": [
    "#46 wac to the given number is greater than 150. \n",
    "n=250\n",
    "n>150"
   ]
  },
  {
   "cell_type": "code",
   "execution_count": 76,
   "id": "15b58fc1",
   "metadata": {},
   "outputs": [
    {
     "data": {
      "text/plain": [
       "False"
      ]
     },
     "execution_count": 76,
     "metadata": {},
     "output_type": "execute_result"
    }
   ],
   "source": [
    "#47 wac to the given number is greater than or equal to 100.\n",
    "# n=100\n",
    "# n>=100\n",
    "\n",
    "# n=101\n",
    "# n>=100\n",
    "\n",
    "n=90\n",
    "n>=100"
   ]
  },
  {
   "cell_type": "code",
   "execution_count": 31,
   "id": "be94c43f",
   "metadata": {},
   "outputs": [
    {
     "name": "stdout",
     "output_type": "stream",
     "text": [
      "60\n"
     ]
    },
    {
     "data": {
      "text/plain": [
       "True"
      ]
     },
     "execution_count": 31,
     "metadata": {},
     "output_type": "execute_result"
    }
   ],
   "source": [
    "#48 wac to the given number is less than 150, print the result.\n",
    "n=75\n",
    "n<150"
   ]
  },
  {
   "cell_type": "code",
   "execution_count": 32,
   "id": "04977603",
   "metadata": {},
   "outputs": [
    {
     "name": "stdout",
     "output_type": "stream",
     "text": [
      "66\n"
     ]
    },
    {
     "data": {
      "text/plain": [
       "True"
      ]
     },
     "execution_count": 32,
     "metadata": {},
     "output_type": "execute_result"
    }
   ],
   "source": [
    "#49 wac to the given number is less than or equal to 100\n",
    "n=100\n",
    "n<=100"
   ]
  },
  {
   "cell_type": "code",
   "execution_count": 36,
   "id": "69c0fc23",
   "metadata": {},
   "outputs": [
    {
     "data": {
      "text/plain": [
       "True"
      ]
     },
     "execution_count": 36,
     "metadata": {},
     "output_type": "execute_result"
    }
   ],
   "source": [
    "#50 wac to the given number is greater than 15 & less than 24\n",
    "# n=20\n",
    "# 15<n<24\n",
    "\n",
    "n=20\n",
    "n>15 and n<24\n"
   ]
  },
  {
   "cell_type": "code",
   "execution_count": 34,
   "id": "3e12d432",
   "metadata": {},
   "outputs": [
    {
     "name": "stdout",
     "output_type": "stream",
     "text": [
      "5\n"
     ]
    },
    {
     "data": {
      "text/plain": [
       "False"
      ]
     },
     "execution_count": 34,
     "metadata": {},
     "output_type": "execute_result"
    }
   ],
   "source": [
    "#51 wac to the given number is even\n",
    "n=18\n",
    "n%2==0\n",
    "\n"
   ]
  },
  {
   "cell_type": "code",
   "execution_count": 35,
   "id": "296ac947",
   "metadata": {},
   "outputs": [
    {
     "name": "stdout",
     "output_type": "stream",
     "text": [
      "5\n"
     ]
    },
    {
     "data": {
      "text/plain": [
       "True"
      ]
     },
     "execution_count": 35,
     "metadata": {},
     "output_type": "execute_result"
    }
   ],
   "source": [
    "#52 wac to the given number is odd\n",
    "n=int(input())\n",
    "n%2!=0"
   ]
  },
  {
   "cell_type": "code",
   "execution_count": 37,
   "id": "656242e5",
   "metadata": {},
   "outputs": [
    {
     "data": {
      "text/plain": [
       "'hihihihihihi'"
      ]
     },
     "execution_count": 37,
     "metadata": {},
     "output_type": "execute_result"
    }
   ],
   "source": [
    "#53 wac to perform the replication of a given string with 6.\n",
    "s='hi'\n",
    "s*6\n"
   ]
  },
  {
   "cell_type": "code",
   "execution_count": 38,
   "id": "698a1e79",
   "metadata": {},
   "outputs": [
    {
     "name": "stdout",
     "output_type": "stream",
     "text": [
      "30\n"
     ]
    },
    {
     "data": {
      "text/plain": [
       "True"
      ]
     },
     "execution_count": 38,
     "metadata": {},
     "output_type": "execute_result"
    }
   ],
   "source": [
    "#54 wac to the given number is dividsiable by 3 and also the number should be greater than 22\n",
    "n=int(input())\n",
    "n>22 and n%3==0\n"
   ]
  },
  {
   "cell_type": "code",
   "execution_count": 37,
   "id": "8cef2c25",
   "metadata": {},
   "outputs": [
    {
     "name": "stdout",
     "output_type": "stream",
     "text": [
      "even\n"
     ]
    }
   ],
   "source": [
    "#55 wac to perform the length of the collection is even or not\n",
    "n=[10,20,40,50,60,60]\n",
    "if len(n)%2==0:\n",
    "    print('even')\n"
   ]
  },
  {
   "cell_type": "code",
   "execution_count": 82,
   "id": "0220fbdc",
   "metadata": {},
   "outputs": [
    {
     "name": "stdout",
     "output_type": "stream",
     "text": [
      "'kjhgfdslkjhgfdkmnjbhvgcfdxs'\n"
     ]
    },
    {
     "data": {
      "text/plain": [
       "True"
      ]
     },
     "execution_count": 82,
     "metadata": {},
     "output_type": "execute_result"
    }
   ],
   "source": [
    "#56 wac to perform the length of the collection is less than 55 and greater than 16.\n",
    "n=eval(input())\n",
    "16<len(n)<55"
   ]
  },
  {
   "cell_type": "code",
   "execution_count": 86,
   "id": "d19906eb",
   "metadata": {},
   "outputs": [
    {
     "data": {
      "text/plain": [
       "True"
      ]
     },
     "execution_count": 86,
     "metadata": {},
     "output_type": "execute_result"
    }
   ],
   "source": [
    "#57 was to perform the length of the collection is divisible by 5 and odd.\n",
    "n=[1,2,3,4,5]\n",
    "len(n)%5==0 and len(n)%2!=0"
   ]
  },
  {
   "cell_type": "code",
   "execution_count": 91,
   "id": "d10ad049",
   "metadata": {},
   "outputs": [
    {
     "data": {
      "text/plain": [
       "3"
      ]
     },
     "execution_count": 91,
     "metadata": {},
     "output_type": "execute_result"
    }
   ],
   "source": [
    "#58 wac to extract the middle position of a given collection (str,lis,tuple)\n",
    "l=[1,2,3,4,5]\n",
    "l[len(l)//2]"
   ]
  },
  {
   "cell_type": "code",
   "execution_count": 92,
   "id": "0e8ea071",
   "metadata": {},
   "outputs": [
    {
     "name": "stdout",
     "output_type": "stream",
     "text": [
      "22\n"
     ]
    },
    {
     "data": {
      "text/plain": [
       "True"
      ]
     },
     "execution_count": 92,
     "metadata": {},
     "output_type": "execute_result"
    }
   ],
   "source": [
    "#59 wac to the given number is greater than 20 and less than 30 and it should be even\n",
    "n=26\n",
    "20<n<30 and n%2==0"
   ]
  },
  {
   "cell_type": "code",
   "execution_count": 93,
   "id": "20a7f9eb",
   "metadata": {},
   "outputs": [
    {
     "name": "stdout",
     "output_type": "stream",
     "text": [
      "56\n"
     ]
    },
    {
     "data": {
      "text/plain": [
       "True"
      ]
     },
     "execution_count": 93,
     "metadata": {},
     "output_type": "execute_result"
    }
   ],
   "source": [
    "#60 wac to the given number is even and it should be less than 120\n",
    "n=89\n",
    "n<120 and n%2==0"
   ]
  },
  {
   "cell_type": "code",
   "execution_count": 94,
   "id": "f88c674e",
   "metadata": {},
   "outputs": [
    {
     "name": "stdout",
     "output_type": "stream",
     "text": [
      "44\n"
     ]
    },
    {
     "data": {
      "text/plain": [
       "True"
      ]
     },
     "execution_count": 94,
     "metadata": {},
     "output_type": "execute_result"
    }
   ],
   "source": [
    "#61 wac to the given number is even and present from 40 to 70\n",
    "n=int(input())\n",
    "40<=n<=70 and n%2==0"
   ]
  },
  {
   "cell_type": "code",
   "execution_count": 95,
   "id": "063b8f9e",
   "metadata": {},
   "outputs": [
    {
     "name": "stdout",
     "output_type": "stream",
     "text": [
      "99\n"
     ]
    },
    {
     "data": {
      "text/plain": [
       "True"
      ]
     },
     "execution_count": 95,
     "metadata": {},
     "output_type": "execute_result"
    }
   ],
   "source": [
    "#62 wac to the given number is odd and it should be greater than 97.\n",
    "n=int(input())\n",
    "97<n and n%2!=0"
   ]
  },
  {
   "cell_type": "code",
   "execution_count": 96,
   "id": "319bea4b",
   "metadata": {},
   "outputs": [
    {
     "name": "stdout",
     "output_type": "stream",
     "text": [
      "52\n"
     ]
    },
    {
     "data": {
      "text/plain": [
       "True"
      ]
     },
     "execution_count": 96,
     "metadata": {},
     "output_type": "execute_result"
    }
   ],
   "source": [
    "#63 wac to the given number is less than 122 and greater than 48 and the number should be divisible by 4.\n",
    "n=int(input())\n",
    "48<n<122 and n%4==0"
   ]
  },
  {
   "cell_type": "code",
   "execution_count": 97,
   "id": "dea63d82",
   "metadata": {},
   "outputs": [
    {
     "name": "stdout",
     "output_type": "stream",
     "text": [
      "15\n"
     ]
    },
    {
     "data": {
      "text/plain": [
       "True"
      ]
     },
     "execution_count": 97,
     "metadata": {},
     "output_type": "execute_result"
    }
   ],
   "source": [
    "#64 wac to the given number is divisible by 3 or 5, displaying the value.\n",
    "n=int(input())\n",
    "n%3==0 or n%5==0"
   ]
  },
  {
   "cell_type": "code",
   "execution_count": 98,
   "id": "0acffa40",
   "metadata": {},
   "outputs": [
    {
     "name": "stdout",
     "output_type": "stream",
     "text": [
      "200\n"
     ]
    },
    {
     "data": {
      "text/plain": [
       "True"
      ]
     },
     "execution_count": 98,
     "metadata": {},
     "output_type": "execute_result"
    }
   ],
   "source": [
    "#65 wac to the given number is between 100 to 200 including the limit.\n",
    "n=int(input())\n",
    "100<=n<=200\n"
   ]
  },
  {
   "cell_type": "code",
   "execution_count": 99,
   "id": "f1fcd568",
   "metadata": {},
   "outputs": [
    {
     "name": "stdout",
     "output_type": "stream",
     "text": [
      "100\n"
     ]
    },
    {
     "data": {
      "text/plain": [
       "True"
      ]
     },
     "execution_count": 99,
     "metadata": {},
     "output_type": "execute_result"
    }
   ],
   "source": [
    "#66 wac to the given number is in between 100 to 200\n",
    "n=int(input())\n",
    "100<=n<=200"
   ]
  },
  {
   "cell_type": "code",
   "execution_count": null,
   "id": "81550a82",
   "metadata": {},
   "outputs": [],
   "source": [
    "#67 wac to the given string's last character ASCII value should be divisible by 5\n",
    "s=input()\n",
    "last_char=s[-1]\n",
    "ord(last_char)%5==0\n"
   ]
  },
  {
   "cell_type": "code",
   "execution_count": 100,
   "id": "3e45c10f",
   "metadata": {},
   "outputs": [
    {
     "name": "stdout",
     "output_type": "stream",
     "text": [
      "84\n"
     ]
    },
    {
     "data": {
      "text/plain": [
       "False"
      ]
     },
     "execution_count": 100,
     "metadata": {},
     "output_type": "execute_result"
    }
   ],
   "source": [
    "#68 wac to the given number is present between 60 to 130 \n",
    "#and the number should be divisible by 3 and 4 and the last didgi shoul be greater than 9.\n",
    "n=int(input())\n",
    "60<=n<=130 and n%3==0 and n%4==0 and n%10>9"
   ]
  },
  {
   "cell_type": "code",
   "execution_count": 108,
   "id": "aab032b0",
   "metadata": {},
   "outputs": [
    {
     "name": "stdout",
     "output_type": "stream",
     "text": [
      "12\n"
     ]
    },
    {
     "data": {
      "text/plain": [
       "True"
      ]
     },
     "execution_count": 108,
     "metadata": {},
     "output_type": "execute_result"
    }
   ],
   "source": [
    "#69 wac to the given number is even or less than 25.\n",
    "n=int(input())\n",
    "n<25 or n%2==0"
   ]
  },
  {
   "cell_type": "code",
   "execution_count": 109,
   "id": "dcbfe67d",
   "metadata": {},
   "outputs": [
    {
     "name": "stdout",
     "output_type": "stream",
     "text": [
      "26\n"
     ]
    },
    {
     "data": {
      "text/plain": [
       "True"
      ]
     },
     "execution_count": 109,
     "metadata": {},
     "output_type": "execute_result"
    }
   ],
   "source": [
    "#70 wac to the given number is even or greater than 25\n",
    "n=int(input())\n",
    "n>25 or n%2==0"
   ]
  },
  {
   "cell_type": "code",
   "execution_count": 110,
   "id": "ba1bd232",
   "metadata": {},
   "outputs": [
    {
     "name": "stdout",
     "output_type": "stream",
     "text": [
      "15\n"
     ]
    },
    {
     "data": {
      "text/plain": [
       "True"
      ]
     },
     "execution_count": 110,
     "metadata": {},
     "output_type": "execute_result"
    }
   ],
   "source": [
    "#71 wac to the given number is divisible by either 3 or 5\n",
    "n=int(input())\n",
    "n%3==0 or n%5==0"
   ]
  },
  {
   "cell_type": "code",
   "execution_count": 111,
   "id": "f9163a48",
   "metadata": {},
   "outputs": [
    {
     "name": "stdout",
     "output_type": "stream",
     "text": [
      "15\n"
     ]
    },
    {
     "data": {
      "text/plain": [
       "True"
      ]
     },
     "execution_count": 111,
     "metadata": {},
     "output_type": "execute_result"
    }
   ],
   "source": [
    "#72 wac to the given number is not an even number\n",
    "n=int(input())\n",
    "n%2!=0"
   ]
  },
  {
   "cell_type": "code",
   "execution_count": 113,
   "id": "e919edc9",
   "metadata": {},
   "outputs": [
    {
     "name": "stdout",
     "output_type": "stream",
     "text": [
      "12\n"
     ]
    },
    {
     "data": {
      "text/plain": [
       "True"
      ]
     },
     "execution_count": 113,
     "metadata": {},
     "output_type": "execute_result"
    }
   ],
   "source": [
    "#73 wac to the given number is not an odd number \n",
    "n=int(input())\n",
    "n%2==0"
   ]
  },
  {
   "cell_type": "code",
   "execution_count": 115,
   "id": "dca96dea",
   "metadata": {},
   "outputs": [
    {
     "name": "stdout",
     "output_type": "stream",
     "text": [
      "6\n"
     ]
    },
    {
     "data": {
      "text/plain": [
       "False"
      ]
     },
     "execution_count": 115,
     "metadata": {},
     "output_type": "execute_result"
    }
   ],
   "source": [
    "#74 wac to the given number is not a divisible by 3 \n",
    "n=int(input())\n",
    "n%3!=0"
   ]
  },
  {
   "cell_type": "code",
   "execution_count": 118,
   "id": "718f74f4",
   "metadata": {},
   "outputs": [
    {
     "name": "stdout",
     "output_type": "stream",
     "text": [
      "3\n"
     ]
    },
    {
     "data": {
      "text/plain": [
       "False"
      ]
     },
     "execution_count": 118,
     "metadata": {},
     "output_type": "execute_result"
    }
   ],
   "source": [
    "#75 wac to the given number is not a divisible by 3 and 5 \n",
    "n=int(input())\n",
    "n%3!=0 and n%5!=0"
   ]
  },
  {
   "cell_type": "code",
   "execution_count": 121,
   "id": "7ed0def6",
   "metadata": {},
   "outputs": [
    {
     "name": "stdout",
     "output_type": "stream",
     "text": [
      "33\n"
     ]
    },
    {
     "data": {
      "text/plain": [
       "False"
      ]
     },
     "execution_count": 121,
     "metadata": {},
     "output_type": "execute_result"
    }
   ],
   "source": [
    "#76 wac to the given number is not a divisible by 3 or 5\n",
    "n=int(input())\n",
    "n%3!=0 or n%5!=0"
   ]
  },
  {
   "cell_type": "code",
   "execution_count": 4,
   "id": "6e6340b6",
   "metadata": {},
   "outputs": [
    {
     "name": "stdout",
     "output_type": "stream",
     "text": [
      "B\n"
     ]
    },
    {
     "data": {
      "text/plain": [
       "True"
      ]
     },
     "execution_count": 4,
     "metadata": {},
     "output_type": "execute_result"
    }
   ],
   "source": [
    "#77 wac to the given character ascii value is not divisible by 5\n",
    "char=input()\n",
    "ord(char)%5!=0\n"
   ]
  },
  {
   "cell_type": "code",
   "execution_count": 3,
   "id": "6e1060b5",
   "metadata": {},
   "outputs": [
    {
     "data": {
      "text/plain": [
       "'A'"
      ]
     },
     "execution_count": 3,
     "metadata": {},
     "output_type": "execute_result"
    }
   ],
   "source": [
    "#78 wac to find out the ascii character in a given number\n",
    "num=int(input())\n",
    "chr(num)"
   ]
  },
  {
   "cell_type": "code",
   "execution_count": 42,
   "id": "afa1ea5d",
   "metadata": {},
   "outputs": [
    {
     "data": {
      "text/plain": [
       "57"
      ]
     },
     "execution_count": 42,
     "metadata": {},
     "output_type": "execute_result"
    }
   ],
   "source": [
    "#79 wac to find out the ascii value in a given character.\n",
    "char='9'\n",
    "ord(char)"
   ]
  },
  {
   "cell_type": "code",
   "execution_count": 125,
   "id": "3bfbc85f",
   "metadata": {},
   "outputs": [
    {
     "data": {
      "text/plain": [
       "True"
      ]
     },
     "execution_count": 125,
     "metadata": {},
     "output_type": "execute_result"
    }
   ],
   "source": [
    "#80 wac to the given character is uppercase or not \n",
    "a='S'\n",
    "a in ['A','B','C','D','E','F','G','H','I','J','K','L','M','N','O','P','Q','R','S','T','U','V','W','X','Y','Z']"
   ]
  },
  {
   "cell_type": "code",
   "execution_count": 9,
   "id": "bd77cfe9",
   "metadata": {},
   "outputs": [
    {
     "data": {
      "text/plain": [
       "True"
      ]
     },
     "execution_count": 9,
     "metadata": {},
     "output_type": "execute_result"
    }
   ],
   "source": [
    "a='A'\n",
    "ord(a)>=65 and ord(a)<=90"
   ]
  },
  {
   "cell_type": "code",
   "execution_count": 130,
   "id": "d3583be8",
   "metadata": {},
   "outputs": [
    {
     "data": {
      "text/plain": [
       "True"
      ]
     },
     "execution_count": 130,
     "metadata": {},
     "output_type": "execute_result"
    }
   ],
   "source": [
    "#81 wac to the given character is the alphabet\n",
    "c= 'a'\n",
    "\n",
    "ord(c) >= 65 and ord(c) <= 90 or ord(c)>=97 and ord(c)<=122\n"
   ]
  },
  {
   "cell_type": "code",
   "execution_count": 131,
   "id": "d92cb129",
   "metadata": {},
   "outputs": [
    {
     "data": {
      "text/plain": [
       "True"
      ]
     },
     "execution_count": 131,
     "metadata": {},
     "output_type": "execute_result"
    }
   ],
   "source": [
    "#82 wac to the given character is lowercase.\n",
    "c= 'a'\n",
    "ord(c)>=97 and ord(c)<=122"
   ]
  },
  {
   "cell_type": "code",
   "execution_count": 19,
   "id": "273d9039",
   "metadata": {},
   "outputs": [
    {
     "data": {
      "text/plain": [
       "False"
      ]
     },
     "execution_count": 19,
     "metadata": {},
     "output_type": "execute_result"
    }
   ],
   "source": [
    "#83 wac to the  given character is ascii number \n",
    "c='#'\n",
    "ord(c) >= 65 and ord(c) <= 90 or ord(c)>=97 and ord(c)<=122 or ord(c)>=48 and ord(c)<=57"
   ]
  },
  {
   "cell_type": "code",
   "execution_count": 20,
   "id": "d512e05d",
   "metadata": {},
   "outputs": [
    {
     "data": {
      "text/plain": [
       "False"
      ]
     },
     "execution_count": 20,
     "metadata": {},
     "output_type": "execute_result"
    }
   ],
   "source": [
    "#84 wac to the given character is special character\n",
    "char = '#'\n",
    "c in [char.isalpha() or char.isdigit() or char.isspace() or char.isalnum()]"
   ]
  },
  {
   "cell_type": "code",
   "execution_count": 23,
   "id": "352a5cf6",
   "metadata": {},
   "outputs": [
    {
     "data": {
      "text/plain": [
       "True"
      ]
     },
     "execution_count": 23,
     "metadata": {},
     "output_type": "execute_result"
    }
   ],
   "source": [
    "# 85 wac to the given character should not be uppercase.\n",
    "char = 'a'\n",
    "\n",
    "ord(char) >= 97 and ord(char) <= 122\n"
   ]
  },
  {
   "cell_type": "code",
   "execution_count": 24,
   "id": "ef1186ac",
   "metadata": {},
   "outputs": [
    {
     "data": {
      "text/plain": [
       "True"
      ]
     },
     "execution_count": 24,
     "metadata": {},
     "output_type": "execute_result"
    }
   ],
   "source": [
    "#86 wac to the given character should not be the lowercase.\n",
    "char='A'\n",
    "ord(char) >= 65 and ord(char) <= 90"
   ]
  },
  {
   "cell_type": "code",
   "execution_count": 26,
   "id": "0382a9c2",
   "metadata": {},
   "outputs": [
    {
     "data": {
      "text/plain": [
       "False"
      ]
     },
     "execution_count": 26,
     "metadata": {},
     "output_type": "execute_result"
    }
   ],
   "source": [
    "#87 wac to the given character should not be an alphabet.\n",
    "char='a'\n",
    "ord(char)>=47 and ord(char)<=58"
   ]
  },
  {
   "cell_type": "code",
   "execution_count": 40,
   "id": "ae16e0b6",
   "metadata": {},
   "outputs": [
    {
     "name": "stdout",
     "output_type": "stream",
     "text": [
      "The given character is an ascii number \n"
     ]
    }
   ],
   "source": [
    "#88 wac to the given character should not be an ascii number.\n",
    "n='0'\n",
    "if not('0'<=n<='9'):\n",
    "    print(\"The given character is not an ascii number \")\n",
    "else:\n",
    "    print(\"The given character is an ascii number \")"
   ]
  },
  {
   "cell_type": "code",
   "execution_count": 41,
   "id": "f60ccfd7",
   "metadata": {},
   "outputs": [
    {
     "name": "stdout",
     "output_type": "stream",
     "text": [
      "the given character is not special character\n"
     ]
    }
   ],
   "source": [
    "#89 wac to the given character is the special character \n",
    "n='a'\n",
    "if not('a'<=n<='z' or 'A'<=n<='Z' or '0'<=n<='1' ):\n",
    "    print(\"the given character is the special character\")\n",
    "else:\n",
    "    print(\"the given character is not special character\")"
   ]
  },
  {
   "cell_type": "code",
   "execution_count": 27,
   "id": "a5b3dfb3",
   "metadata": {},
   "outputs": [
    {
     "data": {
      "text/plain": [
       "True"
      ]
     },
     "execution_count": 27,
     "metadata": {},
     "output_type": "execute_result"
    }
   ],
   "source": [
    "#90 wac to the given character is a vowel\n",
    "char='a'\n",
    "char in ['a','e','i','o','u']"
   ]
  },
  {
   "cell_type": "code",
   "execution_count": 29,
   "id": "5e43b6b3",
   "metadata": {},
   "outputs": [
    {
     "data": {
      "text/plain": [
       "True"
      ]
     },
     "execution_count": 29,
     "metadata": {},
     "output_type": "execute_result"
    }
   ],
   "source": [
    "#91 wac to the given character is a consonanat.\n",
    "char='b'\n",
    "char not in ['a','e','i','o','u']"
   ]
  },
  {
   "cell_type": "code",
   "execution_count": 30,
   "id": "fc46a812",
   "metadata": {},
   "outputs": [
    {
     "data": {
      "text/plain": [
       "'a'"
      ]
     },
     "execution_count": 30,
     "metadata": {},
     "output_type": "execute_result"
    }
   ],
   "source": [
    "#92 was to convert upperase to lowercase in a given character\n",
    "char=\"A\"\n",
    "char.lower()"
   ]
  },
  {
   "cell_type": "code",
   "execution_count": 32,
   "id": "d940daa8",
   "metadata": {},
   "outputs": [
    {
     "name": "stdout",
     "output_type": "stream",
     "text": [
      "a\n"
     ]
    }
   ],
   "source": [
    "char = 'A' \n",
    "if ord(char) >= 65 and ord(char) <= 90:\n",
    "    lower_char = chr(ord(char) + 32)\n",
    "    print(lower_char)"
   ]
  },
  {
   "cell_type": "code",
   "execution_count": 33,
   "id": "d23a756c",
   "metadata": {},
   "outputs": [
    {
     "data": {
      "text/plain": [
       "'A'"
      ]
     },
     "execution_count": 33,
     "metadata": {},
     "output_type": "execute_result"
    }
   ],
   "source": [
    "#93 was to convert lowercase to uppercase in a given character\n",
    "char=\"a\"\n",
    "char.upper()"
   ]
  },
  {
   "cell_type": "code",
   "execution_count": 36,
   "id": "b8829b22",
   "metadata": {},
   "outputs": [
    {
     "name": "stdout",
     "output_type": "stream",
     "text": [
      "A\n"
     ]
    }
   ],
   "source": [
    "char = 'a' \n",
    "if ord(char) >= 97 and ord(char) <= 122:\n",
    "    lower_char = chr(ord(char) - 32)\n",
    "    print(lower_char)"
   ]
  },
  {
   "cell_type": "code",
   "execution_count": 2,
   "id": "5a6e936b",
   "metadata": {},
   "outputs": [
    {
     "name": "stdout",
     "output_type": "stream",
     "text": [
      "b\n",
      "a\n"
     ]
    }
   ],
   "source": [
    "#94 was to extract the previous character in the given character \n",
    "s=input()\n",
    "print(chr(ord(s)-1))"
   ]
  },
  {
   "cell_type": "code",
   "execution_count": 3,
   "id": "25dcd11c",
   "metadata": {},
   "outputs": [
    {
     "name": "stdout",
     "output_type": "stream",
     "text": [
      "b\n",
      "c\n"
     ]
    }
   ],
   "source": [
    "#95 was to extract the next character in the given character\n",
    "s=input()\n",
    "print(chr(ord(s)+1))"
   ]
  },
  {
   "cell_type": "code",
   "execution_count": 52,
   "id": "ea99ffa2",
   "metadata": {},
   "outputs": [
    {
     "data": {
      "text/plain": [
       "True"
      ]
     },
     "execution_count": 52,
     "metadata": {},
     "output_type": "execute_result"
    }
   ],
   "source": [
    "#96 wac to the given number charactr is a special symbol.\n",
    "char='#'\n",
    "ord(char) < 48 or (ord(char) > 57 and ord(char) < 65) or (ord(char) > 90 and ord(char) < 97) or ord(char) > 122"
   ]
  },
  {
   "cell_type": "code",
   "execution_count": 3,
   "id": "76350393",
   "metadata": {},
   "outputs": [
    {
     "name": "stdout",
     "output_type": "stream",
     "text": [
      "b\n"
     ]
    },
    {
     "data": {
      "text/plain": [
       "True"
      ]
     },
     "execution_count": 3,
     "metadata": {},
     "output_type": "execute_result"
    }
   ],
   "source": [
    "#97 wac to the given character is convertd to ascii value and the value is even as well as the character should be lowercase\n",
    "s=input()\n",
    "ord(s)%2==0 and (ord(s)>=97 and ord(s)<=122)\n",
    "\n"
   ]
  },
  {
   "cell_type": "code",
   "execution_count": 9,
   "id": "7890b771",
   "metadata": {},
   "outputs": [
    {
     "name": "stdout",
     "output_type": "stream",
     "text": [
      "A\n"
     ]
    },
    {
     "data": {
      "text/plain": [
       "True"
      ]
     },
     "execution_count": 9,
     "metadata": {},
     "output_type": "execute_result"
    }
   ],
   "source": [
    "#98 wac to the given charactre is convereted to ascii value and the value is odd as well as the character shold be uppercase\n",
    "s=input()\n",
    "ord(s)\n",
    "ord(s)%2!=0 and (ord(s)>=65 and ord(s)<=90)"
   ]
  },
  {
   "cell_type": "code",
   "execution_count": 8,
   "id": "09b6f9da",
   "metadata": {},
   "outputs": [
    {
     "name": "stdout",
     "output_type": "stream",
     "text": [
      "65\n",
      "A\n"
     ]
    },
    {
     "data": {
      "text/plain": [
       "False"
      ]
     },
     "execution_count": 8,
     "metadata": {},
     "output_type": "execute_result"
    }
   ],
   "source": [
    "#99 wac to which the given number is converted to character is not a special symblo\n",
    "n=int(input())\n",
    "print(chr(n))\n",
    "not ('a'<=chr(n)<='z' or 'A'<=chr(n)<='Z' or '0'<=chr(n)<='9')"
   ]
  },
  {
   "cell_type": "code",
   "execution_count": 9,
   "id": "dc6a75fb",
   "metadata": {},
   "outputs": [
    {
     "name": "stdout",
     "output_type": "stream",
     "text": [
      "e\n",
      "vowel e\n"
     ]
    }
   ],
   "source": [
    "#100 wac to the given number of the ascii character is a vowel\n",
    "s=str(input())\n",
    "if s in (\"aeiouAEIOU\"):\n",
    "    print(\"vowel\",s)"
   ]
  },
  {
   "cell_type": "code",
   "execution_count": 6,
   "id": "0f0b6242",
   "metadata": {},
   "outputs": [
    {
     "name": "stdout",
     "output_type": "stream",
     "text": [
      "a\n",
      "b\n"
     ]
    },
    {
     "data": {
      "text/plain": [
       "True"
      ]
     },
     "execution_count": 6,
     "metadata": {},
     "output_type": "execute_result"
    }
   ],
   "source": [
    "#101 wac to check if the first and second characters are sequence or not in a given string\n",
    "s1=input()\n",
    "s2=input()\n",
    "n=ord(s1)\n",
    "n==ord(s1) and n+1==ord(s2)"
   ]
  },
  {
   "cell_type": "code",
   "execution_count": 10,
   "id": "4dec2b5d",
   "metadata": {},
   "outputs": [
    {
     "name": "stdout",
     "output_type": "stream",
     "text": [
      "65\n",
      "A\n"
     ]
    }
   ],
   "source": [
    "#102 wac to the given character ascii value should be either greater than 50 or greater than 25 or less than 112\n",
    "n=int(input())\n",
    "if n>50 or n>25 or n<112:\n",
    "    print(chr(n))"
   ]
  },
  {
   "cell_type": "code",
   "execution_count": 11,
   "id": "319ea337",
   "metadata": {},
   "outputs": [
    {
     "name": "stdout",
     "output_type": "stream",
     "text": [
      "6\n"
     ]
    }
   ],
   "source": [
    "#102 wac to the given number is increased by 1.\n",
    "n=5\n",
    "print(n+1)"
   ]
  },
  {
   "cell_type": "code",
   "execution_count": 12,
   "id": "0db254ee",
   "metadata": {},
   "outputs": [
    {
     "name": "stdout",
     "output_type": "stream",
     "text": [
      "7\n"
     ]
    }
   ],
   "source": [
    "#103 wac to the given number is increased by 2.\n",
    "n=5\n",
    "print(n+2)"
   ]
  },
  {
   "cell_type": "code",
   "execution_count": 13,
   "id": "0ff141d8",
   "metadata": {},
   "outputs": [
    {
     "name": "stdout",
     "output_type": "stream",
     "text": [
      "4\n"
     ]
    }
   ],
   "source": [
    "#104 wac to the given number is decreased by 1.\n",
    "n=5\n",
    "print(n-1)"
   ]
  },
  {
   "cell_type": "code",
   "execution_count": 14,
   "id": "d64b0f86",
   "metadata": {},
   "outputs": [
    {
     "name": "stdout",
     "output_type": "stream",
     "text": [
      "2\n"
     ]
    }
   ],
   "source": [
    "#106 wac to the given number is decreased by 3.\n",
    "n=5\n",
    "print(n-3)"
   ]
  },
  {
   "cell_type": "code",
   "execution_count": 15,
   "id": "a971d65b",
   "metadata": {},
   "outputs": [
    {
     "name": "stdout",
     "output_type": "stream",
     "text": [
      "5\n"
     ]
    }
   ],
   "source": [
    "#107 wac to the given integer number is present in the collection\n",
    "n=5\n",
    "collection=[1,2,3,4,5]\n",
    "if n in collection:\n",
    "    print(n)"
   ]
  },
  {
   "cell_type": "code",
   "execution_count": 17,
   "id": "15625a51",
   "metadata": {},
   "outputs": [
    {
     "name": "stdout",
     "output_type": "stream",
     "text": [
      "11\n"
     ]
    }
   ],
   "source": [
    "#108 wac to perform the addition operation on A value and B value and find result should be updated to A\n",
    "a=5\n",
    "b=6\n",
    "a=a+b\n",
    "print(a)"
   ]
  },
  {
   "cell_type": "code",
   "execution_count": 18,
   "id": "975bbb94",
   "metadata": {},
   "outputs": [
    {
     "name": "stdout",
     "output_type": "stream",
     "text": [
      "a\n"
     ]
    }
   ],
   "source": [
    "#109 wac to the given value is present in the collection\n",
    "s=\"a\"\n",
    "coll=['a','b','c']\n",
    "if s in coll:\n",
    "    print(s)"
   ]
  },
  {
   "cell_type": "code",
   "execution_count": 19,
   "id": "86aa8908",
   "metadata": {},
   "outputs": [
    {
     "name": "stdout",
     "output_type": "stream",
     "text": [
      "[10, 20]\n"
     ]
    }
   ],
   "source": [
    "#110 wac to the given list is presnt in the list.\n",
    "l1=[10,20]\n",
    "l2=[1,2,3,4,[10,20]]\n",
    "if l1 in l2:\n",
    "    print(l1)"
   ]
  },
  {
   "cell_type": "code",
   "execution_count": 22,
   "id": "f3abffb9",
   "metadata": {},
   "outputs": [
    {
     "name": "stdout",
     "output_type": "stream",
     "text": [
      "the given dict values is presnt in tuple\n"
     ]
    }
   ],
   "source": [
    "# 111 wac to the given dict values is presnt in tuple\n",
    "d1={'a':1,'b':2,'c':3}\n",
    "d2=('a','b','c')\n",
    "if tuple(d1)==d2:\n",
    "    print(\"the given dict values is presnt in tuple\")\n",
    "else:\n",
    "    print(\"the given dict values is not presnt in tuple\")"
   ]
  },
  {
   "cell_type": "code",
   "execution_count": 23,
   "id": "7fe7eb60",
   "metadata": {},
   "outputs": [
    {
     "name": "stdout",
     "output_type": "stream",
     "text": [
      "the given vaule is integer\n"
     ]
    }
   ],
   "source": [
    "#112 wac to check given vaule is integer value or not\n",
    "n=5\n",
    "if type(n)==int:\n",
    "    print(\"the given vaule is integer\")\n",
    "else:\n",
    "    print(\"the given vaule is not integer\")"
   ]
  },
  {
   "cell_type": "code",
   "execution_count": 24,
   "id": "927242b9",
   "metadata": {},
   "outputs": [
    {
     "name": "stdout",
     "output_type": "stream",
     "text": [
      "the given vaule is string\n"
     ]
    }
   ],
   "source": [
    "#113 wac to check given vaule is string value or not\n",
    "n='a'\n",
    "if type(n)==str:\n",
    "    print(\"the given vaule is string\")\n",
    "else:\n",
    "    print(\"the given vaule is not string\")"
   ]
  },
  {
   "cell_type": "code",
   "execution_count": 25,
   "id": "4957c855",
   "metadata": {},
   "outputs": [
    {
     "name": "stdout",
     "output_type": "stream",
     "text": [
      "the given vaule is integer\n"
     ]
    }
   ],
   "source": [
    "#114 wac to check given vaule is string value or not\n",
    "n='a'\n",
    "if type(n)==str:\n",
    "    print(\"the given vaule is string\")"
   ]
  },
  {
   "cell_type": "code",
   "execution_count": 26,
   "id": "01e70cb9",
   "metadata": {},
   "outputs": [
    {
     "name": "stdout",
     "output_type": "stream",
     "text": [
      "the given vaule is not string\n"
     ]
    }
   ],
   "source": [
    "#115 wac to check given vaule should not be a string value \n",
    "n=5\n",
    "if type(n)!=str:\n",
    "    print(\"the given vaule is not string\")\n",
    "else:\n",
    "    print(\"the given vaule is string\")"
   ]
  },
  {
   "cell_type": "code",
   "execution_count": 27,
   "id": "3ce80ed2",
   "metadata": {},
   "outputs": [
    {
     "name": "stdout",
     "output_type": "stream",
     "text": [
      "The given value is multi value\n"
     ]
    }
   ],
   "source": [
    "#116 wac to check given value is multi value or not\n",
    "n=[10,20]\n",
    "if type(n) in [list,tuple,dict,set]:\n",
    "    print(\"The given value is multi value\")\n",
    "else:\n",
    "    print(\"The given value is not multi value\")"
   ]
  },
  {
   "cell_type": "code",
   "execution_count": 28,
   "id": "65793da5",
   "metadata": {},
   "outputs": [
    {
     "name": "stdout",
     "output_type": "stream",
     "text": [
      "The given value is mutable value\n"
     ]
    }
   ],
   "source": [
    "#117 wac to check given vaule is mutable value or not\n",
    "n=[10,20]\n",
    "if type(n) in [list,dict,set]:\n",
    "    print(\"The given value is mutable value\")\n",
    "else:\n",
    "    print(\"The given value is not mutable value\")"
   ]
  },
  {
   "cell_type": "code",
   "execution_count": 30,
   "id": "2d89d72c",
   "metadata": {},
   "outputs": [
    {
     "name": "stdout",
     "output_type": "stream",
     "text": [
      "The given value is immutable value\n"
     ]
    }
   ],
   "source": [
    "#118 wac to the check given vaule is immutable value or not\n",
    "n=(10,)\n",
    "if type(n)==tuple:\n",
    "    print(\"The given value is immutable value\")\n",
    "else:\n",
    "     print(\"The given value is not immutable value\")"
   ]
  },
  {
   "cell_type": "code",
   "execution_count": 75,
   "id": "cafe7ffd",
   "metadata": {},
   "outputs": [],
   "source": [
    "#119 wac to check given vaule should be an immutable value\n",
    "n=(10,)\n",
    "if type(n)==tuple:\n",
    "    print(\"The given value is immutable value\")"
   ]
  },
  {
   "cell_type": "code",
   "execution_count": 34,
   "id": "80332c92",
   "metadata": {},
   "outputs": [
    {
     "name": "stdout",
     "output_type": "stream",
     "text": [
      "The given value is not divisible by 6 as well as the value is not present in the collection\n"
     ]
    }
   ],
   "source": [
    "#120 wac to check if a given value is divisible by 6 as well as the value present in the collection or not \n",
    "n=6\n",
    "coll=[1,2,3,4,5,6,7,8,9]\n",
    "if n%6==0 and n in coll:\n",
    "    print(\"The given value is divisible by 6 as well as the value present in the collection\")\n",
    "elif n%6==0 and n not in coll:\n",
    "    print(\"The given value is divisible by 6, the value is not present in the collection\")\n",
    "else:\n",
    "    print(\"The given value is not divisible by 6 as well as the value is not present in the collection\")"
   ]
  },
  {
   "cell_type": "code",
   "execution_count": 25,
   "id": "12abadcf",
   "metadata": {},
   "outputs": [
    {
     "data": {
      "text/plain": [
       "3"
      ]
     },
     "execution_count": 25,
     "metadata": {},
     "output_type": "execute_result"
    }
   ],
   "source": [
    "#121 wac to perform the bitwise and operation given valus are 15 and 19\n",
    "15 & 19"
   ]
  },
  {
   "cell_type": "code",
   "execution_count": 26,
   "id": "7e53b7f9",
   "metadata": {},
   "outputs": [
    {
     "data": {
      "text/plain": [
       "127"
      ]
     },
     "execution_count": 26,
     "metadata": {},
     "output_type": "execute_result"
    }
   ],
   "source": [
    "#122 wac to perform the bitwise or operation given values are 115 and 79\n",
    "115 | 79"
   ]
  },
  {
   "cell_type": "code",
   "execution_count": 27,
   "id": "63a163e0",
   "metadata": {},
   "outputs": [
    {
     "data": {
      "text/plain": [
       "46"
      ]
     },
     "execution_count": 27,
     "metadata": {},
     "output_type": "execute_result"
    }
   ],
   "source": [
    "#123 wac to perform the bitwise xor operation given values are 56 and 22 \n",
    "56^22"
   ]
  },
  {
   "cell_type": "code",
   "execution_count": 28,
   "id": "5857e185",
   "metadata": {},
   "outputs": [
    {
     "data": {
      "text/plain": [
       "-16"
      ]
     },
     "execution_count": 28,
     "metadata": {},
     "output_type": "execute_result"
    }
   ],
   "source": [
    "#124 wac to perform the bitwise not operation given values are 15\n",
    "~15\n"
   ]
  },
  {
   "cell_type": "code",
   "execution_count": 29,
   "id": "75c45f0e",
   "metadata": {},
   "outputs": [
    {
     "data": {
      "text/plain": [
       "256"
      ]
     },
     "execution_count": 29,
     "metadata": {},
     "output_type": "execute_result"
    }
   ],
   "source": [
    "#125 wac to perform the bitwise left shift with 32 and skippi values is 3\n",
    "32<<3"
   ]
  },
  {
   "cell_type": "code",
   "execution_count": 30,
   "id": "d2f0c835",
   "metadata": {},
   "outputs": [
    {
     "data": {
      "text/plain": [
       "6"
      ]
     },
     "execution_count": 30,
     "metadata": {},
     "output_type": "execute_result"
    }
   ],
   "source": [
    "#126 wac to perform the bitwise right shift with 25 and skipping value is 2\n",
    "25>>2"
   ]
  },
  {
   "cell_type": "code",
   "execution_count": 47,
   "id": "b6bb49e4",
   "metadata": {},
   "outputs": [],
   "source": [
    "#127 to find out the output of a given condition\n",
    "# (10+20*60 and 10**3) or ({10,20}) or not ([15-16])\n",
    "a=10+20*60 and 10**3\n",
    "\n"
   ]
  },
  {
   "cell_type": "code",
   "execution_count": 41,
   "id": "7c33d336",
   "metadata": {},
   "outputs": [
    {
     "data": {
      "text/plain": [
       "True"
      ]
     },
     "execution_count": 41,
     "metadata": {},
     "output_type": "execute_result"
    }
   ],
   "source": [
    "#128 wac to check if the first and last characters are the same or not in the given list\n",
    "l=[1,2,3,4,5,6,1]\n",
    "l[0]==l[-1]"
   ]
  },
  {
   "cell_type": "code",
   "execution_count": 40,
   "id": "8bd00f95",
   "metadata": {},
   "outputs": [
    {
     "name": "stdout",
     "output_type": "stream",
     "text": [
      "a\n"
     ]
    },
    {
     "data": {
      "text/plain": [
       "True"
      ]
     },
     "execution_count": 40,
     "metadata": {},
     "output_type": "execute_result"
    }
   ],
   "source": [
    "#129 wac to check if a given key is present in a dict./\n",
    "d={'a':1,'b':2,'c':3}\n",
    "ch=input()\n",
    "ch in d.keys()"
   ]
  },
  {
   "cell_type": "code",
   "execution_count": 33,
   "id": "27fbc371",
   "metadata": {},
   "outputs": [
    {
     "name": "stdout",
     "output_type": "stream",
     "text": [
      "2\n"
     ]
    },
    {
     "data": {
      "text/plain": [
       "True"
      ]
     },
     "execution_count": 33,
     "metadata": {},
     "output_type": "execute_result"
    }
   ],
   "source": [
    "#130 wac to check if value is present in the dict.\n",
    "d={'a':1,'b':2,'c':3}\n",
    "n=int(input())\n",
    "n in d.values()"
   ]
  },
  {
   "cell_type": "code",
   "execution_count": 38,
   "id": "d0596eec",
   "metadata": {},
   "outputs": [
    {
     "name": "stdout",
     "output_type": "stream",
     "text": [
      "d\n"
     ]
    },
    {
     "data": {
      "text/plain": [
       "True"
      ]
     },
     "execution_count": 38,
     "metadata": {},
     "output_type": "execute_result"
    }
   ],
   "source": [
    "#131 wac to check if the key is not present in a dict \n",
    "d={'a':1,'b':2,'c':3}\n",
    "ch=input()\n",
    "ch not in d.keys()"
   ]
  },
  {
   "cell_type": "code",
   "execution_count": 39,
   "id": "2c562464",
   "metadata": {},
   "outputs": [
    {
     "data": {
      "text/plain": [
       "True"
      ]
     },
     "execution_count": 39,
     "metadata": {},
     "output_type": "execute_result"
    }
   ],
   "source": [
    "#132 wac to check if two values are pointing to the same address or not\n",
    "a=10\n",
    "b=10\n",
    "a is b"
   ]
  },
  {
   "cell_type": "code",
   "execution_count": 24,
   "id": "980d974f",
   "metadata": {},
   "outputs": [
    {
     "data": {
      "text/plain": [
       "True"
      ]
     },
     "execution_count": 24,
     "metadata": {},
     "output_type": "execute_result"
    }
   ],
   "source": [
    "#133 wac to check both the values should be integer and both the values are pointing to the same addresss.\n",
    "a=10\n",
    "b=10\n",
    "type(a)==type(b) and (a is b)"
   ]
  }
 ],
 "metadata": {
  "kernelspec": {
   "display_name": "Python 3 (ipykernel)",
   "language": "python",
   "name": "python3"
  },
  "language_info": {
   "codemirror_mode": {
    "name": "ipython",
    "version": 3
   },
   "file_extension": ".py",
   "mimetype": "text/x-python",
   "name": "python",
   "nbconvert_exporter": "python",
   "pygments_lexer": "ipython3",
   "version": "3.9.13"
  }
 },
 "nbformat": 4,
 "nbformat_minor": 5
}
